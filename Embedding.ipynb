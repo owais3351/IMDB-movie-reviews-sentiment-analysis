{
 "cells": [
  {
   "cell_type": "code",
   "execution_count": 1,
   "metadata": {},
   "outputs": [],
   "source": [
    "from tensorflow.keras.preprocessing.text import one_hot"
   ]
  },
  {
   "cell_type": "code",
   "execution_count": 2,
   "metadata": {},
   "outputs": [],
   "source": [
    "### sentences\n",
    "sent=[  'the glass of milk',\n",
    "     'the glass of juice',\n",
    "     'the cup of tea',\n",
    "    'I am a good boy',\n",
    "     'I am a good developer',\n",
    "     'understand the meaning of words',\n",
    "     'your videos are good',]"
   ]
  },
  {
   "cell_type": "code",
   "execution_count": 3,
   "metadata": {},
   "outputs": [
    {
     "data": {
      "text/plain": [
       "['the glass of milk',\n",
       " 'the glass of juice',\n",
       " 'the cup of tea',\n",
       " 'I am a good boy',\n",
       " 'I am a good developer',\n",
       " 'understand the meaning of words',\n",
       " 'your videos are good']"
      ]
     },
     "execution_count": 3,
     "metadata": {},
     "output_type": "execute_result"
    }
   ],
   "source": [
    "sent"
   ]
  },
  {
   "cell_type": "code",
   "execution_count": 4,
   "metadata": {},
   "outputs": [],
   "source": [
    "## Define the vocabulary size\n",
    "# this is the number of unique words in the vocabulary\n",
    "voc_size=10000"
   ]
  },
  {
   "cell_type": "code",
   "execution_count": 41,
   "metadata": {},
   "outputs": [
    {
     "data": {
      "text/plain": [
       "[[3103, 73, 4717, 509],\n",
       " [3103, 73, 4717, 7972],\n",
       " [3103, 393, 4717, 5064],\n",
       " [3460, 7991, 604, 1308, 7762],\n",
       " [3460, 7991, 604, 1308, 1031],\n",
       " [5202, 3103, 4219, 4717, 7195],\n",
       " [9639, 5945, 335, 1308]]"
      ]
     },
     "execution_count": 41,
     "metadata": {},
     "output_type": "execute_result"
    }
   ],
   "source": [
    "### One Hot Representation\n",
    "# one hot takes a word and converts it into a vector of size voc_size\n",
    "one_hot_repr=[one_hot(words,voc_size)for words in sent]\n",
    "one_hot_repr"
   ]
  },
  {
   "cell_type": "code",
   "execution_count": 42,
   "metadata": {},
   "outputs": [],
   "source": [
    "## word Embedding Representation\n",
    "\n",
    "from tensorflow.keras.layers import Embedding\n",
    "from tensorflow.keras.utils import pad_sequences\n",
    "from tensorflow.keras.models import Sequential"
   ]
  },
  {
   "cell_type": "code",
   "execution_count": 7,
   "metadata": {},
   "outputs": [],
   "source": [
    "import numpy as np"
   ]
  },
  {
   "cell_type": "code",
   "execution_count": null,
   "id": "94355d90",
   "metadata": {},
   "outputs": [
    {
     "name": "stdout",
     "output_type": "stream",
     "text": [
      "[[   0    0    0    0 3103   73 4717  509]\n",
      " [   0    0    0    0 3103   73 4717 7972]\n",
      " [   0    0    0    0 3103  393 4717 5064]\n",
      " [   0    0    0 3460 7991  604 1308 7762]\n",
      " [   0    0    0 3460 7991  604 1308 1031]\n",
      " [   0    0    0 5202 3103 4219 4717 7195]\n",
      " [   0    0    0    0 9639 5945  335 1308]]\n"
     ]
    }
   ],
   "source": [
    "# Pad the sequences to ensure that all sentences have the same length \n",
    "# this is done by adding zeros to the beginning or at the end of the sequence to make all sequences of length sent_length\n",
    "\n",
    "sent_length=8\n",
    "embedded_docs=pad_sequences(one_hot_repr,padding='pre',maxlen=sent_length)\n",
    "print(embedded_docs)"
   ]
  },
  {
   "cell_type": "code",
   "execution_count": null,
   "id": "89b6e0d1",
   "metadata": {},
   "outputs": [],
   "source": [
    "## feature representation\n",
    "#Each word is represented by a vector of size 10\n",
    "dim = 10"
   ]
  },
  {
   "cell_type": "code",
   "execution_count": 36,
   "metadata": {},
   "outputs": [
    {
     "name": "stderr",
     "output_type": "stream",
     "text": [
      "c:\\ML project\\venv\\lib\\site-packages\\keras\\src\\layers\\core\\embedding.py:90: UserWarning: Argument `input_length` is deprecated. Just remove it.\n",
      "  warnings.warn(\n"
     ]
    }
   ],
   "source": [
    "## word embedding representation\n",
    "# here we are using the embedding layer of keras\n",
    "# the embedding layer takes the input as the index of the word in the vocabulary\n",
    "# and outputs the embedding vector of size dim\n",
    "model=Sequential()\n",
    "model.add(Embedding(voc_size,dim,input_length=sent_length))\n",
    "model.compile('adam','mse')"
   ]
  },
  {
   "cell_type": "code",
   "execution_count": null,
   "id": "213062b4",
   "metadata": {},
   "outputs": [
    {
     "data": {
      "text/html": [
       "<pre style=\"white-space:pre;overflow-x:auto;line-height:normal;font-family:Menlo,'DejaVu Sans Mono',consolas,'Courier New',monospace\"><span style=\"font-weight: bold\">Model: \"sequential_4\"</span>\n",
       "</pre>\n"
      ],
      "text/plain": [
       "\u001b[1mModel: \"sequential_4\"\u001b[0m\n"
      ]
     },
     "metadata": {},
     "output_type": "display_data"
    },
    {
     "data": {
      "text/html": [
       "<pre style=\"white-space:pre;overflow-x:auto;line-height:normal;font-family:Menlo,'DejaVu Sans Mono',consolas,'Courier New',monospace\">┏━━━━━━━━━━━━━━━━━━━━━━━━━━━━━━━━━┳━━━━━━━━━━━━━━━━━━━━━━━━┳━━━━━━━━━━━━━━━┓\n",
       "┃<span style=\"font-weight: bold\"> Layer (type)                    </span>┃<span style=\"font-weight: bold\"> Output Shape           </span>┃<span style=\"font-weight: bold\">       Param # </span>┃\n",
       "┡━━━━━━━━━━━━━━━━━━━━━━━━━━━━━━━━━╇━━━━━━━━━━━━━━━━━━━━━━━━╇━━━━━━━━━━━━━━━┩\n",
       "│ embedding_4 (<span style=\"color: #0087ff; text-decoration-color: #0087ff\">Embedding</span>)         │ (<span style=\"color: #00d7ff; text-decoration-color: #00d7ff\">None</span>, <span style=\"color: #00af00; text-decoration-color: #00af00\">8</span>, <span style=\"color: #00af00; text-decoration-color: #00af00\">10</span>)          │       <span style=\"color: #00af00; text-decoration-color: #00af00\">100,000</span> │\n",
       "└─────────────────────────────────┴────────────────────────┴───────────────┘\n",
       "</pre>\n"
      ],
      "text/plain": [
       "┏━━━━━━━━━━━━━━━━━━━━━━━━━━━━━━━━━┳━━━━━━━━━━━━━━━━━━━━━━━━┳━━━━━━━━━━━━━━━┓\n",
       "┃\u001b[1m \u001b[0m\u001b[1mLayer (type)                   \u001b[0m\u001b[1m \u001b[0m┃\u001b[1m \u001b[0m\u001b[1mOutput Shape          \u001b[0m\u001b[1m \u001b[0m┃\u001b[1m \u001b[0m\u001b[1m      Param #\u001b[0m\u001b[1m \u001b[0m┃\n",
       "┡━━━━━━━━━━━━━━━━━━━━━━━━━━━━━━━━━╇━━━━━━━━━━━━━━━━━━━━━━━━╇━━━━━━━━━━━━━━━┩\n",
       "│ embedding_4 (\u001b[38;5;33mEmbedding\u001b[0m)         │ (\u001b[38;5;45mNone\u001b[0m, \u001b[38;5;34m8\u001b[0m, \u001b[38;5;34m10\u001b[0m)          │       \u001b[38;5;34m100,000\u001b[0m │\n",
       "└─────────────────────────────────┴────────────────────────┴───────────────┘\n"
      ]
     },
     "metadata": {},
     "output_type": "display_data"
    },
    {
     "data": {
      "text/html": [
       "<pre style=\"white-space:pre;overflow-x:auto;line-height:normal;font-family:Menlo,'DejaVu Sans Mono',consolas,'Courier New',monospace\"><span style=\"font-weight: bold\"> Total params: </span><span style=\"color: #00af00; text-decoration-color: #00af00\">100,000</span> (390.62 KB)\n",
       "</pre>\n"
      ],
      "text/plain": [
       "\u001b[1m Total params: \u001b[0m\u001b[38;5;34m100,000\u001b[0m (390.62 KB)\n"
      ]
     },
     "metadata": {},
     "output_type": "display_data"
    },
    {
     "data": {
      "text/html": [
       "<pre style=\"white-space:pre;overflow-x:auto;line-height:normal;font-family:Menlo,'DejaVu Sans Mono',consolas,'Courier New',monospace\"><span style=\"font-weight: bold\"> Trainable params: </span><span style=\"color: #00af00; text-decoration-color: #00af00\">100,000</span> (390.62 KB)\n",
       "</pre>\n"
      ],
      "text/plain": [
       "\u001b[1m Trainable params: \u001b[0m\u001b[38;5;34m100,000\u001b[0m (390.62 KB)\n"
      ]
     },
     "metadata": {},
     "output_type": "display_data"
    },
    {
     "data": {
      "text/html": [
       "<pre style=\"white-space:pre;overflow-x:auto;line-height:normal;font-family:Menlo,'DejaVu Sans Mono',consolas,'Courier New',monospace\"><span style=\"font-weight: bold\"> Non-trainable params: </span><span style=\"color: #00af00; text-decoration-color: #00af00\">0</span> (0.00 B)\n",
       "</pre>\n"
      ],
      "text/plain": [
       "\u001b[1m Non-trainable params: \u001b[0m\u001b[38;5;34m0\u001b[0m (0.00 B)\n"
      ]
     },
     "metadata": {},
     "output_type": "display_data"
    }
   ],
   "source": [
    "model.build(input_shape=(None, sent_length))\n",
    "model.summary()"
   ]
  },
  {
   "cell_type": "code",
   "execution_count": 44,
   "id": "23404cdc",
   "metadata": {},
   "outputs": [
    {
     "data": {
      "text/plain": [
       "array([[   0,    0,    0,    0, 3103,   73, 4717,  509],\n",
       "       [   0,    0,    0,    0, 3103,   73, 4717, 7972],\n",
       "       [   0,    0,    0,    0, 3103,  393, 4717, 5064],\n",
       "       [   0,    0,    0, 3460, 7991,  604, 1308, 7762],\n",
       "       [   0,    0,    0, 3460, 7991,  604, 1308, 1031],\n",
       "       [   0,    0,    0, 5202, 3103, 4219, 4717, 7195],\n",
       "       [   0,    0,    0,    0, 9639, 5945,  335, 1308]])"
      ]
     },
     "execution_count": 44,
     "metadata": {},
     "output_type": "execute_result"
    }
   ],
   "source": [
    "embedded_docs"
   ]
  },
  {
   "cell_type": "code",
   "execution_count": 38,
   "id": "4fa984a4",
   "metadata": {},
   "outputs": [
    {
     "name": "stdout",
     "output_type": "stream",
     "text": [
      "WARNING:tensorflow:5 out of the last 5 calls to <function TensorFlowTrainer.make_predict_function.<locals>.one_step_on_data_distributed at 0x000001FA7F896A60> triggered tf.function retracing. Tracing is expensive and the excessive number of tracings could be due to (1) creating @tf.function repeatedly in a loop, (2) passing tensors with different shapes, (3) passing Python objects instead of tensors. For (1), please define your @tf.function outside of the loop. For (2), @tf.function has reduce_retracing=True option that can avoid unnecessary retracing. For (3), please refer to https://www.tensorflow.org/guide/function#controlling_retracing and https://www.tensorflow.org/api_docs/python/tf/function for  more details.\n",
      "\u001b[1m1/1\u001b[0m \u001b[32m━━━━━━━━━━━━━━━━━━━━\u001b[0m\u001b[37m\u001b[0m \u001b[1m0s\u001b[0m 249ms/step\n"
     ]
    },
    {
     "data": {
      "text/plain": [
       "array([[[ 2.53770463e-02,  1.49498917e-02,  7.35829026e-03,\n",
       "          3.35447453e-02,  3.84448878e-02, -5.08405268e-04,\n",
       "          9.04776901e-03,  3.81303914e-02, -1.05826482e-02,\n",
       "          3.79535295e-02],\n",
       "        [ 2.53770463e-02,  1.49498917e-02,  7.35829026e-03,\n",
       "          3.35447453e-02,  3.84448878e-02, -5.08405268e-04,\n",
       "          9.04776901e-03,  3.81303914e-02, -1.05826482e-02,\n",
       "          3.79535295e-02],\n",
       "        [ 2.53770463e-02,  1.49498917e-02,  7.35829026e-03,\n",
       "          3.35447453e-02,  3.84448878e-02, -5.08405268e-04,\n",
       "          9.04776901e-03,  3.81303914e-02, -1.05826482e-02,\n",
       "          3.79535295e-02],\n",
       "        [ 2.53770463e-02,  1.49498917e-02,  7.35829026e-03,\n",
       "          3.35447453e-02,  3.84448878e-02, -5.08405268e-04,\n",
       "          9.04776901e-03,  3.81303914e-02, -1.05826482e-02,\n",
       "          3.79535295e-02],\n",
       "        [-2.56086718e-02, -7.47118145e-03,  3.23604383e-02,\n",
       "          3.89474146e-02,  3.73188592e-02,  3.27905081e-02,\n",
       "          9.95839760e-03, -5.11999056e-03,  1.85558908e-02,\n",
       "          1.41653158e-02],\n",
       "        [-2.59967893e-03,  4.16734256e-02,  4.11828421e-02,\n",
       "          2.62345709e-02, -4.54120412e-02, -4.36336994e-02,\n",
       "          3.33191268e-02,  3.52550298e-04,  2.34315284e-02,\n",
       "          4.92807068e-02],\n",
       "        [-2.77141333e-02,  1.15358829e-03,  2.14280374e-02,\n",
       "         -1.27089135e-02, -1.36053674e-02,  4.69418056e-02,\n",
       "         -3.11680883e-03, -3.40239555e-02, -1.77515633e-02,\n",
       "          9.97389480e-03],\n",
       "        [ 2.32895464e-03,  1.45213939e-02, -3.45058218e-02,\n",
       "          3.50790508e-02,  4.26043905e-02, -2.49454509e-02,\n",
       "          3.49181406e-02, -4.59642299e-02, -3.80078927e-02,\n",
       "         -2.90258173e-02]],\n",
       "\n",
       "       [[ 2.53770463e-02,  1.49498917e-02,  7.35829026e-03,\n",
       "          3.35447453e-02,  3.84448878e-02, -5.08405268e-04,\n",
       "          9.04776901e-03,  3.81303914e-02, -1.05826482e-02,\n",
       "          3.79535295e-02],\n",
       "        [ 2.53770463e-02,  1.49498917e-02,  7.35829026e-03,\n",
       "          3.35447453e-02,  3.84448878e-02, -5.08405268e-04,\n",
       "          9.04776901e-03,  3.81303914e-02, -1.05826482e-02,\n",
       "          3.79535295e-02],\n",
       "        [ 2.53770463e-02,  1.49498917e-02,  7.35829026e-03,\n",
       "          3.35447453e-02,  3.84448878e-02, -5.08405268e-04,\n",
       "          9.04776901e-03,  3.81303914e-02, -1.05826482e-02,\n",
       "          3.79535295e-02],\n",
       "        [ 2.53770463e-02,  1.49498917e-02,  7.35829026e-03,\n",
       "          3.35447453e-02,  3.84448878e-02, -5.08405268e-04,\n",
       "          9.04776901e-03,  3.81303914e-02, -1.05826482e-02,\n",
       "          3.79535295e-02],\n",
       "        [-2.56086718e-02, -7.47118145e-03,  3.23604383e-02,\n",
       "          3.89474146e-02,  3.73188592e-02,  3.27905081e-02,\n",
       "          9.95839760e-03, -5.11999056e-03,  1.85558908e-02,\n",
       "          1.41653158e-02],\n",
       "        [-2.59967893e-03,  4.16734256e-02,  4.11828421e-02,\n",
       "          2.62345709e-02, -4.54120412e-02, -4.36336994e-02,\n",
       "          3.33191268e-02,  3.52550298e-04,  2.34315284e-02,\n",
       "          4.92807068e-02],\n",
       "        [-2.77141333e-02,  1.15358829e-03,  2.14280374e-02,\n",
       "         -1.27089135e-02, -1.36053674e-02,  4.69418056e-02,\n",
       "         -3.11680883e-03, -3.40239555e-02, -1.77515633e-02,\n",
       "          9.97389480e-03],\n",
       "        [-4.18157093e-02,  5.64561039e-03,  2.90582068e-02,\n",
       "         -1.42512321e-02,  3.84420790e-02,  4.88094203e-02,\n",
       "         -2.50881668e-02,  3.17329206e-02,  7.17201084e-03,\n",
       "         -2.64426004e-02]],\n",
       "\n",
       "       [[ 2.53770463e-02,  1.49498917e-02,  7.35829026e-03,\n",
       "          3.35447453e-02,  3.84448878e-02, -5.08405268e-04,\n",
       "          9.04776901e-03,  3.81303914e-02, -1.05826482e-02,\n",
       "          3.79535295e-02],\n",
       "        [ 2.53770463e-02,  1.49498917e-02,  7.35829026e-03,\n",
       "          3.35447453e-02,  3.84448878e-02, -5.08405268e-04,\n",
       "          9.04776901e-03,  3.81303914e-02, -1.05826482e-02,\n",
       "          3.79535295e-02],\n",
       "        [ 2.53770463e-02,  1.49498917e-02,  7.35829026e-03,\n",
       "          3.35447453e-02,  3.84448878e-02, -5.08405268e-04,\n",
       "          9.04776901e-03,  3.81303914e-02, -1.05826482e-02,\n",
       "          3.79535295e-02],\n",
       "        [ 2.53770463e-02,  1.49498917e-02,  7.35829026e-03,\n",
       "          3.35447453e-02,  3.84448878e-02, -5.08405268e-04,\n",
       "          9.04776901e-03,  3.81303914e-02, -1.05826482e-02,\n",
       "          3.79535295e-02],\n",
       "        [-2.56086718e-02, -7.47118145e-03,  3.23604383e-02,\n",
       "          3.89474146e-02,  3.73188592e-02,  3.27905081e-02,\n",
       "          9.95839760e-03, -5.11999056e-03,  1.85558908e-02,\n",
       "          1.41653158e-02],\n",
       "        [ 3.73040922e-02,  4.31500189e-02,  1.87685974e-02,\n",
       "          2.31164582e-02,  1.08192675e-02, -4.76033688e-02,\n",
       "          2.57651247e-02, -2.47132070e-02, -2.43279226e-02,\n",
       "         -8.64792988e-03],\n",
       "        [-2.77141333e-02,  1.15358829e-03,  2.14280374e-02,\n",
       "         -1.27089135e-02, -1.36053674e-02,  4.69418056e-02,\n",
       "         -3.11680883e-03, -3.40239555e-02, -1.77515633e-02,\n",
       "          9.97389480e-03],\n",
       "        [ 2.10715272e-02,  1.23406760e-02,  4.39047851e-02,\n",
       "         -3.20400745e-02,  4.68215607e-02, -3.98108475e-02,\n",
       "          2.25693099e-02, -8.52010399e-03, -3.90447862e-02,\n",
       "          3.34142186e-02]],\n",
       "\n",
       "       [[ 2.53770463e-02,  1.49498917e-02,  7.35829026e-03,\n",
       "          3.35447453e-02,  3.84448878e-02, -5.08405268e-04,\n",
       "          9.04776901e-03,  3.81303914e-02, -1.05826482e-02,\n",
       "          3.79535295e-02],\n",
       "        [ 2.53770463e-02,  1.49498917e-02,  7.35829026e-03,\n",
       "          3.35447453e-02,  3.84448878e-02, -5.08405268e-04,\n",
       "          9.04776901e-03,  3.81303914e-02, -1.05826482e-02,\n",
       "          3.79535295e-02],\n",
       "        [ 2.53770463e-02,  1.49498917e-02,  7.35829026e-03,\n",
       "          3.35447453e-02,  3.84448878e-02, -5.08405268e-04,\n",
       "          9.04776901e-03,  3.81303914e-02, -1.05826482e-02,\n",
       "          3.79535295e-02],\n",
       "        [ 2.00958513e-02,  3.15012783e-03, -9.74228233e-03,\n",
       "          7.77242333e-03,  3.00824642e-03,  2.30484493e-02,\n",
       "         -7.24904239e-05,  2.93897428e-02,  4.79554199e-02,\n",
       "          2.56486647e-02],\n",
       "        [-2.28914153e-02,  2.63438113e-02, -3.01817060e-02,\n",
       "          1.64815523e-02, -4.44162749e-02, -2.52584815e-02,\n",
       "         -2.21776012e-02,  3.55628878e-03, -3.37004289e-02,\n",
       "          2.98490040e-02],\n",
       "        [-3.41557339e-03,  2.10131519e-02,  4.51860763e-02,\n",
       "         -3.35974917e-02, -4.62628864e-02,  4.04877774e-02,\n",
       "         -2.10226066e-02,  3.72680277e-03,  9.35698673e-03,\n",
       "         -2.09560990e-02],\n",
       "        [ 1.67560317e-02, -4.13709283e-02,  1.32290982e-02,\n",
       "         -9.54585150e-03, -8.05979967e-03,  2.45322250e-02,\n",
       "         -2.98147202e-02, -4.76428121e-03,  3.28807123e-02,\n",
       "          3.54468338e-02],\n",
       "        [ 2.60612853e-02,  2.01060809e-02,  1.66802071e-02,\n",
       "          1.31039359e-02,  2.94419378e-03,  3.43574025e-02,\n",
       "         -1.62882432e-02, -1.74844265e-03, -4.64920774e-02,\n",
       "         -6.29566610e-04]],\n",
       "\n",
       "       [[ 2.53770463e-02,  1.49498917e-02,  7.35829026e-03,\n",
       "          3.35447453e-02,  3.84448878e-02, -5.08405268e-04,\n",
       "          9.04776901e-03,  3.81303914e-02, -1.05826482e-02,\n",
       "          3.79535295e-02],\n",
       "        [ 2.53770463e-02,  1.49498917e-02,  7.35829026e-03,\n",
       "          3.35447453e-02,  3.84448878e-02, -5.08405268e-04,\n",
       "          9.04776901e-03,  3.81303914e-02, -1.05826482e-02,\n",
       "          3.79535295e-02],\n",
       "        [ 2.53770463e-02,  1.49498917e-02,  7.35829026e-03,\n",
       "          3.35447453e-02,  3.84448878e-02, -5.08405268e-04,\n",
       "          9.04776901e-03,  3.81303914e-02, -1.05826482e-02,\n",
       "          3.79535295e-02],\n",
       "        [ 2.00958513e-02,  3.15012783e-03, -9.74228233e-03,\n",
       "          7.77242333e-03,  3.00824642e-03,  2.30484493e-02,\n",
       "         -7.24904239e-05,  2.93897428e-02,  4.79554199e-02,\n",
       "          2.56486647e-02],\n",
       "        [-2.28914153e-02,  2.63438113e-02, -3.01817060e-02,\n",
       "          1.64815523e-02, -4.44162749e-02, -2.52584815e-02,\n",
       "         -2.21776012e-02,  3.55628878e-03, -3.37004289e-02,\n",
       "          2.98490040e-02],\n",
       "        [-3.41557339e-03,  2.10131519e-02,  4.51860763e-02,\n",
       "         -3.35974917e-02, -4.62628864e-02,  4.04877774e-02,\n",
       "         -2.10226066e-02,  3.72680277e-03,  9.35698673e-03,\n",
       "         -2.09560990e-02],\n",
       "        [ 1.67560317e-02, -4.13709283e-02,  1.32290982e-02,\n",
       "         -9.54585150e-03, -8.05979967e-03,  2.45322250e-02,\n",
       "         -2.98147202e-02, -4.76428121e-03,  3.28807123e-02,\n",
       "          3.54468338e-02],\n",
       "        [ 1.95664279e-02,  3.05902623e-02,  1.85019635e-02,\n",
       "          2.72748582e-02,  2.58191265e-02, -1.20881312e-02,\n",
       "          3.28048952e-02, -2.70221122e-02, -1.76315904e-02,\n",
       "         -3.22218686e-02]],\n",
       "\n",
       "       [[ 2.53770463e-02,  1.49498917e-02,  7.35829026e-03,\n",
       "          3.35447453e-02,  3.84448878e-02, -5.08405268e-04,\n",
       "          9.04776901e-03,  3.81303914e-02, -1.05826482e-02,\n",
       "          3.79535295e-02],\n",
       "        [ 2.53770463e-02,  1.49498917e-02,  7.35829026e-03,\n",
       "          3.35447453e-02,  3.84448878e-02, -5.08405268e-04,\n",
       "          9.04776901e-03,  3.81303914e-02, -1.05826482e-02,\n",
       "          3.79535295e-02],\n",
       "        [ 2.53770463e-02,  1.49498917e-02,  7.35829026e-03,\n",
       "          3.35447453e-02,  3.84448878e-02, -5.08405268e-04,\n",
       "          9.04776901e-03,  3.81303914e-02, -1.05826482e-02,\n",
       "          3.79535295e-02],\n",
       "        [-3.96076329e-02,  1.60946287e-02, -3.70605476e-02,\n",
       "          8.54532793e-03,  4.59595211e-02, -3.43103334e-03,\n",
       "         -3.38680670e-03, -1.93374995e-02,  7.94934109e-03,\n",
       "          2.29248889e-02],\n",
       "        [-2.56086718e-02, -7.47118145e-03,  3.23604383e-02,\n",
       "          3.89474146e-02,  3.73188592e-02,  3.27905081e-02,\n",
       "          9.95839760e-03, -5.11999056e-03,  1.85558908e-02,\n",
       "          1.41653158e-02],\n",
       "        [ 1.33434869e-02, -1.20945200e-02,  1.11282840e-02,\n",
       "         -3.21417674e-02,  6.56037405e-03,  4.21563052e-02,\n",
       "          2.52951123e-02, -7.48202950e-03, -4.23876531e-02,\n",
       "         -2.25585699e-02],\n",
       "        [-2.77141333e-02,  1.15358829e-03,  2.14280374e-02,\n",
       "         -1.27089135e-02, -1.36053674e-02,  4.69418056e-02,\n",
       "         -3.11680883e-03, -3.40239555e-02, -1.77515633e-02,\n",
       "          9.97389480e-03],\n",
       "        [-4.56527621e-03, -4.64039221e-02,  6.28875569e-03,\n",
       "         -1.58944726e-02,  2.09527090e-03,  4.35959734e-02,\n",
       "          3.30947712e-03,  2.06632130e-02, -4.53212373e-02,\n",
       "          2.36849897e-02]],\n",
       "\n",
       "       [[ 2.53770463e-02,  1.49498917e-02,  7.35829026e-03,\n",
       "          3.35447453e-02,  3.84448878e-02, -5.08405268e-04,\n",
       "          9.04776901e-03,  3.81303914e-02, -1.05826482e-02,\n",
       "          3.79535295e-02],\n",
       "        [ 2.53770463e-02,  1.49498917e-02,  7.35829026e-03,\n",
       "          3.35447453e-02,  3.84448878e-02, -5.08405268e-04,\n",
       "          9.04776901e-03,  3.81303914e-02, -1.05826482e-02,\n",
       "          3.79535295e-02],\n",
       "        [ 2.53770463e-02,  1.49498917e-02,  7.35829026e-03,\n",
       "          3.35447453e-02,  3.84448878e-02, -5.08405268e-04,\n",
       "          9.04776901e-03,  3.81303914e-02, -1.05826482e-02,\n",
       "          3.79535295e-02],\n",
       "        [ 2.53770463e-02,  1.49498917e-02,  7.35829026e-03,\n",
       "          3.35447453e-02,  3.84448878e-02, -5.08405268e-04,\n",
       "          9.04776901e-03,  3.81303914e-02, -1.05826482e-02,\n",
       "          3.79535295e-02],\n",
       "        [ 4.06696238e-02, -4.52909470e-02,  3.45186107e-02,\n",
       "          5.99850342e-03, -5.79856709e-03,  1.01148374e-02,\n",
       "         -1.02829933e-03,  1.68691762e-02, -1.11165419e-02,\n",
       "         -3.58657241e-02],\n",
       "        [ 4.38816808e-02,  2.71982215e-02,  1.87587850e-02,\n",
       "          4.44864519e-02, -1.61147118e-02, -1.80117004e-02,\n",
       "          2.20640637e-02, -4.30494435e-02, -4.69868258e-03,\n",
       "          4.55829389e-02],\n",
       "        [ 1.42729171e-02, -1.66704506e-03,  2.01805942e-02,\n",
       "         -4.63394523e-02,  6.57521188e-04,  4.49245051e-03,\n",
       "          4.78498675e-02,  9.46738571e-03, -2.50550043e-02,\n",
       "         -1.33879185e-02],\n",
       "        [ 1.67560317e-02, -4.13709283e-02,  1.32290982e-02,\n",
       "         -9.54585150e-03, -8.05979967e-03,  2.45322250e-02,\n",
       "         -2.98147202e-02, -4.76428121e-03,  3.28807123e-02,\n",
       "          3.54468338e-02]]], dtype=float32)"
      ]
     },
     "execution_count": 38,
     "metadata": {},
     "output_type": "execute_result"
    }
   ],
   "source": [
    "model.predict(embedded_docs)"
   ]
  },
  {
   "cell_type": "code",
   "execution_count": 39,
   "metadata": {},
   "outputs": [
    {
     "data": {
      "text/plain": [
       "array([   0,    0,    0,    0, 3103,   73, 4717,  509])"
      ]
     },
     "execution_count": 39,
     "metadata": {},
     "output_type": "execute_result"
    }
   ],
   "source": [
    "embedded_docs[0]"
   ]
  },
  {
   "cell_type": "code",
   "execution_count": 40,
   "metadata": {},
   "outputs": [
    {
     "name": "stdout",
     "output_type": "stream",
     "text": [
      "WARNING:tensorflow:6 out of the last 6 calls to <function TensorFlowTrainer.make_predict_function.<locals>.one_step_on_data_distributed at 0x000001FA7F896A60> triggered tf.function retracing. Tracing is expensive and the excessive number of tracings could be due to (1) creating @tf.function repeatedly in a loop, (2) passing tensors with different shapes, (3) passing Python objects instead of tensors. For (1), please define your @tf.function outside of the loop. For (2), @tf.function has reduce_retracing=True option that can avoid unnecessary retracing. For (3), please refer to https://www.tensorflow.org/guide/function#controlling_retracing and https://www.tensorflow.org/api_docs/python/tf/function for  more details.\n",
      "\u001b[1m1/1\u001b[0m \u001b[32m━━━━━━━━━━━━━━━━━━━━\u001b[0m\u001b[37m\u001b[0m \u001b[1m0s\u001b[0m 143ms/step\n"
     ]
    },
    {
     "data": {
      "text/plain": [
       "array([[[ 0.02537705,  0.01494989,  0.00735829,  0.03354475,\n",
       "          0.03844489, -0.00050841,  0.00904777,  0.03813039,\n",
       "         -0.01058265,  0.03795353],\n",
       "        [ 0.02537705,  0.01494989,  0.00735829,  0.03354475,\n",
       "          0.03844489, -0.00050841,  0.00904777,  0.03813039,\n",
       "         -0.01058265,  0.03795353],\n",
       "        [ 0.02537705,  0.01494989,  0.00735829,  0.03354475,\n",
       "          0.03844489, -0.00050841,  0.00904777,  0.03813039,\n",
       "         -0.01058265,  0.03795353],\n",
       "        [ 0.02537705,  0.01494989,  0.00735829,  0.03354475,\n",
       "          0.03844489, -0.00050841,  0.00904777,  0.03813039,\n",
       "         -0.01058265,  0.03795353],\n",
       "        [-0.02560867, -0.00747118,  0.03236044,  0.03894741,\n",
       "          0.03731886,  0.03279051,  0.0099584 , -0.00511999,\n",
       "          0.01855589,  0.01416532],\n",
       "        [-0.00259968,  0.04167343,  0.04118284,  0.02623457,\n",
       "         -0.04541204, -0.0436337 ,  0.03331913,  0.00035255,\n",
       "          0.02343153,  0.04928071],\n",
       "        [-0.02771413,  0.00115359,  0.02142804, -0.01270891,\n",
       "         -0.01360537,  0.04694181, -0.00311681, -0.03402396,\n",
       "         -0.01775156,  0.00997389],\n",
       "        [ 0.00232895,  0.01452139, -0.03450582,  0.03507905,\n",
       "          0.04260439, -0.02494545,  0.03491814, -0.04596423,\n",
       "         -0.03800789, -0.02902582]]], dtype=float32)"
      ]
     },
     "execution_count": 40,
     "metadata": {},
     "output_type": "execute_result"
    }
   ],
   "source": [
    "model.predict(embedded_docs[0].reshape(1,sent_length))"
   ]
  },
  {
   "cell_type": "code",
   "execution_count": null,
   "metadata": {},
   "outputs": [],
   "source": []
  },
  {
   "cell_type": "code",
   "execution_count": null,
   "id": "f030c549",
   "metadata": {},
   "outputs": [],
   "source": []
  },
  {
   "cell_type": "code",
   "execution_count": null,
   "metadata": {},
   "outputs": [],
   "source": []
  },
  {
   "cell_type": "code",
   "execution_count": null,
   "metadata": {},
   "outputs": [],
   "source": []
  }
 ],
 "metadata": {
  "kernelspec": {
   "display_name": "Python 3",
   "language": "python",
   "name": "python3"
  },
  "language_info": {
   "codemirror_mode": {
    "name": "ipython",
    "version": 3
   },
   "file_extension": ".py",
   "mimetype": "text/x-python",
   "name": "python",
   "nbconvert_exporter": "python",
   "pygments_lexer": "ipython3",
   "version": "3.9.21"
  }
 },
 "nbformat": 4,
 "nbformat_minor": 5
}
